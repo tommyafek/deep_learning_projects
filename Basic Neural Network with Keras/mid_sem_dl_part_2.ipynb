{
  "nbformat": 4,
  "nbformat_minor": 0,
  "metadata": {
    "colab": {
      "provenance": []
    },
    "kernelspec": {
      "name": "python3",
      "display_name": "Python 3"
    },
    "language_info": {
      "name": "python"
    },
    "accelerator": "GPU"
  },
  "cells": [
    {
      "cell_type": "markdown",
      "source": [
        "# Mid-semester assignment Part 2 - Basics of deep learning\n",
        "Hello dear students,<br> this is the template notebook. Please upload it into your drive and open as Google Colab nootebook\".\n",
        "\n",
        "---\n",
        "<br>\n",
        "\n",
        "### Name and ID:\n",
        "Student 1: Stav Elizur\n",
        "<br>\n",
        "Student 2: Tommy Afek\n"
      ],
      "metadata": {
        "collapsed": false,
        "pycharm": {
          "name": "#%% md\n"
        },
        "id": "XDDbguyGU8Fs"
      }
    },
    {
      "cell_type": "markdown",
      "source": [
        "## Fashion MNIST with Keras\n",
        "Fashion MNIST dataset contains 70,000 grayscale images in 10 categories. The images show individual articles of clothing at low resolution (28 by 28 pixels), as seen here:\n",
        "\n",
        "<table>\n",
        "  <tr><td>\n",
        "    <img src=\"https://cloudxlab.com/blog/wp-content/uploads/2019/06/Tensorflow_Keras.png\"\n",
        "         alt=\"Fashion MNIST sprite\"  width=\"600\">\n",
        "  </td></tr>\n",
        "  \n",
        "</table>\n"
      ],
      "metadata": {
        "id": "JLkWLC8f3HZI"
      }
    },
    {
      "cell_type": "markdown",
      "source": [
        "Loading the dataset returns four NumPy arrays:\n",
        "\n",
        "* The `train_images` and `train_labels` arrays are the *training set*—the data the model uses to learn.\n",
        "* The model is tested against the *test set*, the `test_images`, and `test_labels` arrays.\n",
        "\n",
        "The images are 28x28 NumPy arrays, with pixel values ranging between 0 and 255. The *labels* are an array of integers, ranging from 0 to 9. These correspond to the *class* of clothing the image represents:\n",
        "\n",
        "<table>\n",
        "  <tr>\n",
        "    <th>Label</th>\n",
        "    <th>Class</th>\n",
        "  </tr>\n",
        "  <tr>\n",
        "    <td>0</td>\n",
        "    <td>T-shirt/top</td>\n",
        "  </tr>\n",
        "  <tr>\n",
        "    <td>1</td>\n",
        "    <td>Trouser</td>\n",
        "  </tr>\n",
        "    <tr>\n",
        "    <td>2</td>\n",
        "    <td>Pullover</td>\n",
        "  </tr>\n",
        "    <tr>\n",
        "    <td>3</td>\n",
        "    <td>Dress</td>\n",
        "  </tr>\n",
        "    <tr>\n",
        "    <td>4</td>\n",
        "    <td>Coat</td>\n",
        "  </tr>\n",
        "    <tr>\n",
        "    <td>5</td>\n",
        "    <td>Sandal</td>\n",
        "  </tr>\n",
        "    <tr>\n",
        "    <td>6</td>\n",
        "    <td>Shirt</td>\n",
        "  </tr>\n",
        "    <tr>\n",
        "    <td>7</td>\n",
        "    <td>Sneaker</td>\n",
        "  </tr>\n",
        "    <tr>\n",
        "    <td>8</td>\n",
        "    <td>Bag</td>\n",
        "  </tr>\n",
        "    <tr>\n",
        "    <td>9</td>\n",
        "    <td>Ankle boot</td>\n",
        "  </tr>\n",
        "</table>\n",
        "\n",
        "<br>\n",
        "\n",
        "# Goodluck!"
      ],
      "metadata": {
        "id": "WiRxNFCn3Vxd"
      }
    },
    {
      "cell_type": "markdown",
      "source": [
        "# Neural Network with Tensorflow Keras part 1 (Binary Classification)"
      ],
      "metadata": {
        "collapsed": false,
        "pycharm": {
          "name": "#%% md\n"
        },
        "id": "EU8d54pEU8GF"
      }
    },
    {
      "cell_type": "markdown",
      "source": [
        "## Import Libraries"
      ],
      "metadata": {
        "id": "UPCSaccR32De"
      }
    },
    {
      "cell_type": "code",
      "execution_count": null,
      "outputs": [
        {
          "output_type": "stream",
          "name": "stdout",
          "text": [
            "/usr/local/lib/python3.8/dist-packages/gdown/cli.py:121: FutureWarning: Option `--id` was deprecated in version 4.3.1 and will be removed in 5.0. You don't need to pass it anymore to use a file ID.\n",
            "  warnings.warn(\n",
            "Downloading...\n",
            "From: https://drive.google.com/uc?id=1KXw1jNlrhNJp4jh2UT9zH7YsHv529xHw\n",
            "To: /content/Explainer_part_2.zip\n",
            "100% 341/341 [00:00<00:00, 734kB/s]\n",
            "Archive:  /content/Explainer_part_2.zip\n",
            "  inflating: Explainer_part_2.md     \n"
          ]
        }
      ],
      "source": [
        "import tensorflow as tf\n",
        "from tensorflow import keras\n",
        "from keras.datasets import mnist\n",
        "import matplotlib.pyplot as plt\n",
        "\n",
        "!gdown --id 1KXw1jNlrhNJp4jh2UT9zH7YsHv529xHw\n",
        "!unzip /content/Explainer_part_2.zip"
      ],
      "metadata": {
        "pycharm": {
          "name": "#%%\n"
        },
        "id": "RyvoZdAXU8GG",
        "colab": {
          "base_uri": "https://localhost:8080/"
        },
        "outputId": "73a0336f-ab27-4e91-f475-e21a48622c5b"
      }
    },
    {
      "cell_type": "markdown",
      "source": [
        "## Load Dataset"
      ],
      "metadata": {
        "id": "Q1WPjPPR6Wpr"
      }
    },
    {
      "cell_type": "code",
      "execution_count": null,
      "outputs": [],
      "source": [
        "def load_dataset():\n",
        "  return keras.datasets.fashion_mnist.load_data()"
      ],
      "metadata": {
        "pycharm": {
          "name": "#%%\n"
        },
        "id": "xSM3px5EU8GG"
      }
    },
    {
      "cell_type": "code",
      "source": [
        "%%script echo skipping\n",
        "(X_train, y_train), (X_test, y_test) = load_dataset()\n",
        "plt.imshow(X_train[1])\n",
        "plt.show()"
      ],
      "metadata": {
        "colab": {
          "base_uri": "https://localhost:8080/"
        },
        "id": "cFi3iE1-CAuo",
        "outputId": "9df89827-23f7-4d7c-96e3-327cfb041846"
      },
      "execution_count": null,
      "outputs": [
        {
          "output_type": "stream",
          "name": "stdout",
          "text": [
            "skipping\n"
          ]
        }
      ]
    },
    {
      "cell_type": "markdown",
      "source": [
        "## Data preprocessing"
      ],
      "metadata": {
        "collapsed": false,
        "pycharm": {
          "name": "#%% md\n"
        },
        "id": "6Sm0udbSU8GG"
      }
    },
    {
      "cell_type": "markdown",
      "source": [
        "### Feature scaling"
      ],
      "metadata": {
        "collapsed": false,
        "pycharm": {
          "name": "#%% md\n"
        },
        "id": "ZZAUfLmVU8GH"
      }
    },
    {
      "cell_type": "code",
      "execution_count": null,
      "outputs": [
        {
          "output_type": "stream",
          "name": "stdout",
          "text": [
            "skipping\n"
          ]
        }
      ],
      "source": [
        "%%script echo skipping\n",
        "from sklearn.preprocessing import StandardScaler\n",
        "\n",
        "sc = StandardScaler()\n",
        "X_train = sc.fit_transform(X_train.reshape(X_train.shape[0], X_train.shape[1] * X_train.shape[2]))\n",
        "X_test = sc.transform(X_test.reshape(X_test.shape[0], X_test.shape[1] * X_test.shape[2]))"
      ],
      "metadata": {
        "pycharm": {
          "name": "#%%\n"
        },
        "id": "hzqQphx7U8GH",
        "colab": {
          "base_uri": "https://localhost:8080/"
        },
        "outputId": "ebce318b-70cb-4b51-c4d1-8c06b5d2296d"
      }
    },
    {
      "cell_type": "markdown",
      "source": [
        "### Select two classes"
      ],
      "metadata": {
        "id": "YSzvJ196GkvO"
      }
    },
    {
      "cell_type": "code",
      "source": [
        "%%script echo skipping\n",
        "import numpy as np\n",
        "\n",
        "dress_num = 3\n",
        "ankle_boot_num = 9\n",
        "\n",
        "index_train = np.where((y_train == ankle_boot_num) | (y_train == dress_num))\n",
        "index_test = np.where((y_test == ankle_boot_num) | (y_test == dress_num))\n",
        "\n",
        "X_train = X_train[index_train[0],:]\n",
        "y_train = y_train[index_train[0]]\n",
        "X_test = X_test[index_test[0],:]\n",
        "y_test = y_test[index_test[0]]\n",
        "\n",
        "y_train[y_train == dress_num] = 0\n",
        "y_test[y_test == dress_num] = 0\n",
        "y_train[y_train == ankle_boot_num] = 1\n",
        "y_test[y_test == ankle_boot_num] = 1"
      ],
      "metadata": {
        "id": "yjpHGlrmGlbe",
        "colab": {
          "base_uri": "https://localhost:8080/"
        },
        "outputId": "ed5ce1d8-2224-458d-f8b8-81665d9690d5"
      },
      "execution_count": null,
      "outputs": [
        {
          "output_type": "stream",
          "name": "stdout",
          "text": [
            "skipping\n"
          ]
        }
      ]
    },
    {
      "cell_type": "markdown",
      "source": [
        "\n",
        "We need to convert 1-dimensional class arrays to multi-dimensional class matrices<br>\n",
        "\n",
        "\n",
        "`np_utils.to_categorical` is used to convert array of labeled data(from 0 to nb_classes - 1) to one-hot vector.<br>\n",
        "Read about np_utils here: https://www.tensorflow.org/api_docs/python/tf/keras/utils/to_categorical"
      ],
      "metadata": {
        "collapsed": false,
        "pycharm": {
          "name": "#%% md\n"
        },
        "id": "FlCtN7Y-U8GH"
      }
    },
    {
      "cell_type": "code",
      "execution_count": null,
      "outputs": [],
      "source": [
        "from keras.utils import np_utils"
      ],
      "metadata": {
        "pycharm": {
          "name": "#%%\n"
        },
        "id": "PrJ6v0ACU8GI"
      }
    },
    {
      "cell_type": "markdown",
      "source": [
        "### Build the network layers\n",
        "Read about Fully connected layers in keras here: https://www.tensorflow.org/api_docs/python/tf/keras/layers/Dense"
      ],
      "metadata": {
        "collapsed": false,
        "pycharm": {
          "name": "#%% md\n"
        },
        "id": "jwIzE9kSU8GI"
      }
    },
    {
      "cell_type": "code",
      "source": [
        "%%script echo skipping\n",
        "from keras.models import Sequential\n",
        "from keras.layers import Flatten, Dense\n",
        "\n",
        "model = Sequential()\n",
        "model.add(tf.keras.layers.Dense(units=12, activation='sigmoid', input_shape=[784]))\n",
        "print(model.output_shape)\n",
        "model.add(tf.keras.layers.Dense(units=1, activation='sigmoid'))\n",
        "print(model.output_shape)"
      ],
      "metadata": {
        "pycharm": {
          "name": "#%%\n",
          "is_executing": true
        },
        "id": "U3IepEv6U8GI",
        "colab": {
          "base_uri": "https://localhost:8080/"
        },
        "outputId": "1560830c-c402-47ad-cc18-6df35e6f5f81"
      },
      "execution_count": null,
      "outputs": [
        {
          "output_type": "stream",
          "name": "stdout",
          "text": [
            "skipping\n"
          ]
        }
      ]
    },
    {
      "cell_type": "markdown",
      "source": [
        "### Build the Optimizer\n",
        "Read about the Optimizer here: https://keras.io/api/optimizers/"
      ],
      "metadata": {
        "collapsed": false,
        "pycharm": {
          "name": "#%% md\n"
        },
        "id": "VH6cuNVOU8GJ"
      }
    },
    {
      "cell_type": "code",
      "execution_count": null,
      "outputs": [
        {
          "output_type": "stream",
          "name": "stdout",
          "text": [
            "skipping\n"
          ]
        }
      ],
      "source": [
        "%%script echo skipping\n",
        "from keras.optimizers import Adam\n",
        "\n",
        "opt = Adam()\n",
        "model.compile(optimizer = opt, loss = 'binary_crossentropy', metrics = ['accuracy'])"
      ],
      "metadata": {
        "pycharm": {
          "name": "#%%\n"
        },
        "id": "2Xndbe19U8GJ",
        "colab": {
          "base_uri": "https://localhost:8080/"
        },
        "outputId": "9122b559-179d-4fe1-9466-a9c6013f6ed6"
      }
    },
    {
      "cell_type": "markdown",
      "source": [
        "### Training\n",
        "Use the fit method to train your model, then store the results within the variable \"history\".\n"
      ],
      "metadata": {
        "collapsed": false,
        "pycharm": {
          "name": "#%% md\n"
        },
        "id": "c7kXhHkoU8GJ"
      }
    },
    {
      "cell_type": "code",
      "execution_count": null,
      "outputs": [
        {
          "output_type": "stream",
          "name": "stdout",
          "text": [
            "skipping\n"
          ]
        }
      ],
      "source": [
        "%%script echo skipping\n",
        "history = model.fit(x= X_train,y=y_train, validation_split = 0.1, batch_size = 32, epochs = 10)"
      ],
      "metadata": {
        "pycharm": {
          "name": "#%%\n"
        },
        "id": "Sq1KOMEeU8GJ",
        "colab": {
          "base_uri": "https://localhost:8080/"
        },
        "outputId": "64279eae-1f3f-4434-fce7-83ce96e8dc41"
      }
    },
    {
      "cell_type": "markdown",
      "source": [
        "### Save Trained model (weights)\n",
        "Read about Save and load models in tensorflow.keras here: [https://www.tensorflow.org/tutorials/keras/save_and_load](https://www.tensorflow.org/tutorials/keras/save_and_load)\n"
      ],
      "metadata": {
        "id": "zS3_ZnXk450S"
      }
    },
    {
      "cell_type": "code",
      "source": [
        "%%script echo skipping\n",
        "from google.colab import drive\n",
        "drive.mount('/content/drive')\n",
        "model.save('/content/drive/MyDrive/Google Colab/model')"
      ],
      "metadata": {
        "id": "Pb66kyHa5c-l",
        "colab": {
          "base_uri": "https://localhost:8080/"
        },
        "outputId": "77f95f93-c51f-4c10-bc47-d00912ef7210"
      },
      "execution_count": null,
      "outputs": [
        {
          "output_type": "stream",
          "name": "stdout",
          "text": [
            "skipping\n"
          ]
        }
      ]
    },
    {
      "cell_type": "markdown",
      "source": [
        "### Loss and Accuracy Visualization\n",
        "Show  on plot the lose during training"
      ],
      "metadata": {
        "collapsed": false,
        "pycharm": {
          "name": "#%% md\n"
        },
        "id": "bkNYD1oRU8GK"
      }
    },
    {
      "cell_type": "code",
      "execution_count": null,
      "outputs": [],
      "source": [
        "import matplotlib.pyplot as plt\n",
        "\n",
        "def training_loss(history):\n",
        "  plt.plot(history.history['loss'])\n",
        "  plt.plot(history.history['val_loss'])\n",
        "  plt.title('model loss')\n",
        "  plt.ylabel('loss')\n",
        "  plt.xlabel('epoch')\n",
        "  plt.legend(['train', 'val'], loc='upper left')\n",
        "  plt.show()"
      ],
      "metadata": {
        "pycharm": {
          "name": "#%%\n"
        },
        "id": "iM8si3EBU8GK"
      }
    },
    {
      "cell_type": "code",
      "source": [
        "%%script echo skipping\n",
        "training_loss(history)"
      ],
      "metadata": {
        "colab": {
          "base_uri": "https://localhost:8080/"
        },
        "id": "mTIOU-1kCKOP",
        "outputId": "e42b738f-caa5-4083-8e63-2c27f5c9127f"
      },
      "execution_count": null,
      "outputs": [
        {
          "output_type": "stream",
          "name": "stdout",
          "text": [
            "skipping\n"
          ]
        }
      ]
    },
    {
      "cell_type": "markdown",
      "source": [
        "Show  on plot the accuracy during training"
      ],
      "metadata": {
        "collapsed": false,
        "pycharm": {
          "name": "#%% md\n"
        },
        "id": "w4JBO5zuU8GK"
      }
    },
    {
      "cell_type": "code",
      "execution_count": null,
      "outputs": [],
      "source": [
        "from matplotlib import pyplot as plt\n",
        "\n",
        "def training_accuracy(history):\n",
        "  plt.plot(history.history['accuracy'])\n",
        "  plt.plot(history.history['val_accuracy'])\n",
        "  plt.title('model accuracy')\n",
        "  plt.ylabel('accuracy')\n",
        "  plt.xlabel('epoch')\n",
        "  plt.legend(['train', 'val'], loc='upper left')\n",
        "  plt.show()"
      ],
      "metadata": {
        "pycharm": {
          "name": "#%%\n"
        },
        "id": "hOCsxuuTU8GK"
      }
    },
    {
      "cell_type": "code",
      "source": [
        "%%script echo skipping\n",
        "training_accuracy(history)"
      ],
      "metadata": {
        "colab": {
          "base_uri": "https://localhost:8080/"
        },
        "id": "yOCn1yXbCOU_",
        "outputId": "b46fbafa-bd64-4bf5-836a-c3d573664b9b"
      },
      "execution_count": null,
      "outputs": [
        {
          "output_type": "stream",
          "name": "stdout",
          "text": [
            "skipping\n"
          ]
        }
      ]
    },
    {
      "cell_type": "markdown",
      "source": [
        "### Test\n",
        "Test your model (Show accuracy by comparing the prediction VS the test label)"
      ],
      "metadata": {
        "collapsed": false,
        "pycharm": {
          "name": "#%% md\n"
        },
        "id": "SAUlD1ypU8GL"
      }
    },
    {
      "cell_type": "code",
      "source": [
        "%%script echo skipping\n",
        "def predict_binary(X_test):\n",
        "  y_pred = model.predict(X_test)\n",
        "  y_pred = (y_pred > 0.5)\n",
        "  return y_pred"
      ],
      "metadata": {
        "colab": {
          "base_uri": "https://localhost:8080/"
        },
        "id": "RnXpjcw6Q-Gn",
        "outputId": "d6e9e197-3bf4-49cf-d6e8-5dd819cf609c"
      },
      "execution_count": null,
      "outputs": [
        {
          "output_type": "stream",
          "name": "stdout",
          "text": [
            "skipping\n"
          ]
        }
      ]
    },
    {
      "cell_type": "code",
      "execution_count": null,
      "outputs": [],
      "source": [
        "from sklearn.metrics import accuracy_score\n",
        "\n",
        "def print_accuracy_score(y_test,y_pred):\n",
        "  accuracy = accuracy_score(y_test, y_pred)\n",
        "  print(f'Accuracy: {round(accuracy*100)}%')"
      ],
      "metadata": {
        "pycharm": {
          "name": "#%%\n"
        },
        "id": "rukB7UefU8GL"
      }
    },
    {
      "cell_type": "code",
      "source": [
        "%%script echo skipping\n",
        "print_accuracy_score(y_test, predict_binary(X_test))"
      ],
      "metadata": {
        "colab": {
          "base_uri": "https://localhost:8080/"
        },
        "id": "Ndyt-yx7CoqP",
        "outputId": "a5f6b7da-f9d3-45ae-ecf3-0ecb06b9072b"
      },
      "execution_count": null,
      "outputs": [
        {
          "output_type": "stream",
          "name": "stdout",
          "text": [
            "skipping\n"
          ]
        }
      ]
    },
    {
      "cell_type": "markdown",
      "source": [
        "### Model Evaluation\n",
        "Show the model evaluation by presenting the confusion metrix in a representative way<br>\n",
        "Read about confusion metrix visualization here: https://scikit-learn.org/stable/auto_examples/model_selection/plot_confusion_matrix.html"
      ],
      "metadata": {
        "collapsed": false,
        "pycharm": {
          "name": "#%% md\n"
        },
        "id": "ClevveJ3U8GL"
      }
    },
    {
      "cell_type": "code",
      "execution_count": null,
      "outputs": [],
      "source": [
        "from sklearn.metrics import confusion_matrix, ConfusionMatrixDisplay\n",
        "import itertools\n",
        "\n",
        "def print_confusion_matrix(y_test,y_pred, display_labels):\n",
        "  cm = confusion_matrix(y_test, y_pred)\n",
        "  print(f'Confusion Matrix:\\n\\n{cm}')\n",
        "  cmd = ConfusionMatrixDisplay(cm, display_labels=display_labels)\n",
        "  cmd.plot()"
      ],
      "metadata": {
        "pycharm": {
          "name": "#%%\n"
        },
        "id": "KHQVaRZKU8GL"
      }
    },
    {
      "cell_type": "code",
      "source": [
        "%%script echo skipping\n",
        "print_confusion_matrix(y_test, predict_binary(X_test), ['Dress','Ankle Boot'])"
      ],
      "metadata": {
        "colab": {
          "base_uri": "https://localhost:8080/"
        },
        "id": "w5EE08d7Csu9",
        "outputId": "092c3e8d-6ab6-4cd9-a425-aaeba41b9345"
      },
      "execution_count": null,
      "outputs": [
        {
          "output_type": "stream",
          "name": "stdout",
          "text": [
            "skipping\n"
          ]
        }
      ]
    },
    {
      "cell_type": "code",
      "source": [
        "from sklearn.metrics import classification_report\n",
        "\n",
        "def print_classification_report(y_test, y_pred, target_names):\n",
        "  print(classification_report(y_test, y_pred, target_names=target_names))"
      ],
      "metadata": {
        "id": "Rwi-NI1WMs41"
      },
      "execution_count": null,
      "outputs": []
    },
    {
      "cell_type": "code",
      "source": [
        "%%script echo skipping\n",
        "print_classification_report(y_test, predict_binary(X_test), ['Dress','Ankle Boot'])"
      ],
      "metadata": {
        "colab": {
          "base_uri": "https://localhost:8080/"
        },
        "id": "6lNNrEx3C2-l",
        "outputId": "76243103-1516-4a33-a806-f0d00924a34d"
      },
      "execution_count": null,
      "outputs": [
        {
          "output_type": "stream",
          "name": "stdout",
          "text": [
            "skipping\n"
          ]
        }
      ]
    },
    {
      "cell_type": "markdown",
      "source": [
        "---\n",
        "<br>\n",
        "\n",
        "\n",
        "# Neural Network with Tensorflow Keras part 2 (Multiclass Classification)"
      ],
      "metadata": {
        "id": "s6_ug9JLjmM8"
      }
    },
    {
      "cell_type": "markdown",
      "source": [
        "## Import Libraries"
      ],
      "metadata": {
        "id": "Dn9kBnoOkJ7B"
      }
    },
    {
      "cell_type": "code",
      "source": [
        "import tensorflow as tf\n",
        "from tensorflow import keras\n",
        "from keras.datasets import mnist\n",
        "import matplotlib.pyplot as plt"
      ],
      "metadata": {
        "id": "0L5QXTC5kK9F"
      },
      "execution_count": null,
      "outputs": []
    },
    {
      "cell_type": "markdown",
      "source": [
        "## Load Dataset"
      ],
      "metadata": {
        "id": "pcLzuIa3kOQ_"
      }
    },
    {
      "cell_type": "code",
      "source": [
        "from sklearn.preprocessing import StandardScaler\n",
        "\n",
        "def load_dataset_for_multiclass():\n",
        "  (X_train, y_train), (X_test, y_test) = load_dataset()\n",
        "  sc = StandardScaler()\n",
        "  X_train = sc.fit_transform(X_train.reshape(X_train.shape[0], X_train.shape[1] * X_train.shape[2]))\n",
        "  X_test = sc.transform(X_test.reshape(X_test.shape[0], X_test.shape[1] * X_test.shape[2]))\n",
        "  y_train = np_utils.to_categorical(y_train)\n",
        "\n",
        "  return (X_train, y_train), (X_test, y_test)\n",
        "\n",
        "(X_train, y_train), (X_test, y_test) = load_dataset_for_multiclass()\n",
        "plt.imshow(X_train[1].reshape(28, 28))\n",
        "plt.show()"
      ],
      "metadata": {
        "colab": {
          "base_uri": "https://localhost:8080/",
          "height": 404
        },
        "id": "B0z91q_6kUPh",
        "outputId": "695e2ada-a29c-4420-88f2-4c4e07b726c4"
      },
      "execution_count": null,
      "outputs": [
        {
          "output_type": "stream",
          "name": "stdout",
          "text": [
            "Downloading data from https://storage.googleapis.com/tensorflow/tf-keras-datasets/train-labels-idx1-ubyte.gz\n",
            "29515/29515 [==============================] - 0s 0us/step\n",
            "Downloading data from https://storage.googleapis.com/tensorflow/tf-keras-datasets/train-images-idx3-ubyte.gz\n",
            "26421880/26421880 [==============================] - 2s 0us/step\n",
            "Downloading data from https://storage.googleapis.com/tensorflow/tf-keras-datasets/t10k-labels-idx1-ubyte.gz\n",
            "5148/5148 [==============================] - 0s 0us/step\n",
            "Downloading data from https://storage.googleapis.com/tensorflow/tf-keras-datasets/t10k-images-idx3-ubyte.gz\n",
            "4422102/4422102 [==============================] - 0s 0us/step\n"
          ]
        },
        {
          "output_type": "display_data",
          "data": {
            "text/plain": [
              "<Figure size 432x288 with 1 Axes>"
            ],
            "image/png": "[encoded data removed]"
          },
          "metadata": {
            "needs_background": "light"
          }
        }
      ]
    },
    {
      "cell_type": "markdown",
      "source": [
        "### The rest you will have to create yourself..."
      ],
      "metadata": {
        "id": "Zcr6QaXFkmI4"
      }
    },
    {
      "cell_type": "markdown",
      "source": [
        "## Models"
      ],
      "metadata": {
        "id": "xMTvB9TolhcG"
      }
    },
    {
      "cell_type": "markdown",
      "source": [
        "### Base Model"
      ],
      "metadata": {
        "id": "rOqJ_9CGk3h9"
      }
    },
    {
      "cell_type": "code",
      "source": [
        "%%script echo skipping\n",
        "import numpy as np\n",
        "from keras.models import Sequential\n",
        "from keras.layers import Flatten, Dense\n",
        "\n",
        "y_labels = ['T-shirt/top', 'Trouser', 'Pullover', 'Dress', 'Coat', 'Sandal', 'Shirt', 'Sneaker', 'Bag', 'Ankle boot']\n",
        "model = Sequential()\n",
        "model.add(tf.keras.layers.Dense(units=12, activation='sigmoid', input_shape=[784]))\n",
        "model.add(tf.keras.layers.Dense(units=10, activation='softmax'))\n",
        "model.compile(optimizer = 'adam', loss = 'categorical_crossentropy', metrics = ['accuracy'])\n",
        "model.summary()\n",
        "history = model.fit(x = X_train ,y = y_train, validation_split = 0.5, batch_size = 32, epochs = 10)\n",
        "\n",
        "training_accuracy(history)\n",
        "training_loss(history)\n",
        "\n",
        "predictions = np.array([])\n",
        "y_pred = model.predict(X_test)\n",
        "for y in y_pred:\n",
        "  predictions = np.concatenate([predictions, [np.argmax(y)]])\n",
        "\n",
        "print_confusion_matrix(y_test, predictions, y_labels)\n",
        "print_classification_report(y_test, predictions, y_labels)\n",
        "print_accuracy_score(y_test, predictions)"
      ],
      "metadata": {
        "colab": {
          "base_uri": "https://localhost:8080/"
        },
        "id": "_b2o2Eb2Ausv",
        "outputId": "92a95b06-2e50-4ce8-acb0-a8f3f85a4c52"
      },
      "execution_count": null,
      "outputs": [
        {
          "output_type": "stream",
          "name": "stdout",
          "text": [
            "skipping\n"
          ]
        }
      ]
    },
    {
      "cell_type": "markdown",
      "source": [
        "### Experiment number 1"
      ],
      "metadata": {
        "id": "eKieQwhOlA3m"
      }
    },
    {
      "cell_type": "code",
      "source": [
        "%%script echo skipping\n",
        "import numpy as np\n",
        "def first_experiment(fully_connected_layers_list,\n",
        "                     neurons_in_layer_list):\n",
        "  (X_train, y_train), (X_test, y_test) = load_dataset_for_multiclass()\n",
        "  y_labels = ['T-shirt/top', 'Trouser', 'Pullover', 'Dress', 'Coat', 'Sandal', 'Shirt', 'Sneaker', 'Bag', 'Ankle boot']\n",
        "  index_experiment = 1\n",
        "  for fully_connected_layer in fully_connected_layers_list:\n",
        "    for neuron_in_layer in neurons_in_layer_list:\n",
        "        model = tf.keras.models.Sequential()\n",
        "\n",
        "        units = neuron_in_layer\n",
        "        model.add(tf.keras.layers.Dense(units=12, activation='sigmoid', input_shape=[784]))\n",
        "        for fully_con_layer in range(fully_connected_layer):\n",
        "          model.add(tf.keras.layers.Dense(units=units, activation='sigmoid'))\n",
        "          units = units // 2\n",
        "\n",
        "        model.add(tf.keras.layers.Dense(units=10, activation='softmax'))\n",
        "        model.summary()\n",
        "        model.compile(optimizer = 'adam', loss = 'categorical_crossentropy', metrics = ['accuracy'])\n",
        "        history = model.fit(x = X_train ,y = y_train, validation_split = 0.1, batch_size = 32, epochs = 10)\n",
        "\n",
        "        training_accuracy(history)\n",
        "        training_loss(history)\n",
        "\n",
        "        predictions = np.array([])\n",
        "        y_pred = model.predict(X_test)\n",
        "        for y in y_pred:\n",
        "          predictions = np.concatenate([predictions, [np.argmax(y)]])\n",
        "\n",
        "        print_confusion_matrix(y_test, predictions, y_labels)\n",
        "        print_classification_report(y_test, predictions, y_labels)\n",
        "        print_accuracy_score(y_test, predictions)\n",
        "\n",
        "        model.save(f'/content/drive/MyDrive/Google Colab/Exp1_ann/model_exp_1_ann{index_experiment}')\n",
        "        index_experiment += 1\n",
        "\n",
        "first_experiment([3, 2],\n",
        "                [120, 300])"
      ],
      "metadata": {
        "colab": {
          "base_uri": "https://localhost:8080/"
        },
        "id": "rOn0g-juHydP",
        "outputId": "6252c749-f0b3-40c7-932e-5737c5a88dd5"
      },
      "execution_count": null,
      "outputs": [
        {
          "output_type": "stream",
          "name": "stdout",
          "text": [
            "skipping\n"
          ]
        }
      ]
    },
    {
      "cell_type": "markdown",
      "source": [
        "### Experiment number 2"
      ],
      "metadata": {
        "id": "SK-L3P-XlDSQ"
      }
    },
    {
      "cell_type": "code",
      "source": [
        "%%script echo skipping\n",
        "import numpy as np\n",
        "def second_experiment(learning_rates,\n",
        "                      batch_sizes,\n",
        "                      numbers_of_epochs):\n",
        "  (X_train, y_train), (X_test, y_test) = load_dataset_for_multiclass()\n",
        "  y_labels = ['T-shirt/top', 'Trouser', 'Pullover', 'Dress', 'Coat', 'Sandal', 'Shirt', 'Sneaker', 'Bag', 'Ankle boot']\n",
        "  index_experiment = 1\n",
        "\n",
        "  for learning_rate in learning_rates:\n",
        "    for batch_size in batch_sizes:\n",
        "      for numbers_of_epoch in numbers_of_epochs:\n",
        "\n",
        "        model = tf.keras.models.Sequential()\n",
        "        model.add(tf.keras.layers.Dense(units=12, activation='sigmoid', input_shape=[784]))\n",
        "        model.add(tf.keras.layers.Dense(units=10, activation='softmax'))\n",
        "        model.summary()\n",
        "\n",
        "        opt = tf.keras.optimizers.Adam(learning_rate=learning_rate)\n",
        "        model.compile(optimizer = opt, loss = 'categorical_crossentropy', metrics = ['accuracy'])\n",
        "        history = model.fit(x = X_train, y = y_train, validation_split = 0.1, batch_size = batch_size, epochs = numbers_of_epoch)\n",
        "\n",
        "        training_accuracy(history)\n",
        "        training_loss(history)\n",
        "\n",
        "        predictions = np.array([])\n",
        "        y_pred = model.predict(X_test)\n",
        "        for y in y_pred:\n",
        "          predictions = np.concatenate([predictions, [np.argmax(y)]])\n",
        "\n",
        "        print_confusion_matrix(y_test, predictions, y_labels)\n",
        "        print_classification_report(y_test, predictions, y_labels)\n",
        "        print_accuracy_score(y_test, predictions)\n",
        "\n",
        "\n",
        "        model.save(f'/content/drive/MyDrive/Google Colab/Exp2_ann/model_exp_2_ann{index_experiment}')\n",
        "        index_experiment += 1\n",
        "\n",
        "second_experiment([0.001, 0.01, 0.1],\n",
        "                  [40, 60, 70],\n",
        "                  [5, 6, 10])"
      ],
      "metadata": {
        "id": "XMPrRgTiSenY",
        "colab": {
          "base_uri": "https://localhost:8080/"
        },
        "outputId": "61b9cb17-b19c-4672-eaca-c466cf6f5585"
      },
      "execution_count": null,
      "outputs": [
        {
          "output_type": "stream",
          "name": "stdout",
          "text": [
            "skipping\n"
          ]
        }
      ]
    },
    {
      "cell_type": "markdown",
      "source": [
        "## Test Environment (of part 2 only)\n",
        "This part is meant to show the tester how your model is performing. Keep in mind that the only cells he is going to run are the cells below.<br>\n",
        "(If there are libraries that need to be used please add their import. If there is a process that the data has to go through before it enters the model, don't forget to add it as well)."
      ],
      "metadata": {
        "id": "L0xlxiaj6xM4"
      }
    },
    {
      "cell_type": "markdown",
      "source": [
        "### Load trained model"
      ],
      "metadata": {
        "id": "-rMJ1ucy7lKB"
      }
    },
    {
      "cell_type": "code",
      "source": [
        "!pip install -U --no-cache-dir gdown --pre\n",
        "!gdown --id 18h35T33aNKe4_U8lWHAU4SgPL7EoKzGK\n",
        "!unzip /content/model_ann.zip\n",
        "\n",
        "model = tf.keras.models.load_model('/content/model_ann')"
      ],
      "metadata": {
        "id": "I27yHolJ7naT",
        "colab": {
          "base_uri": "https://localhost:8080/"
        },
        "outputId": "f211b7cc-70c4-4d52-f2d6-609ed1c2aa23"
      },
      "execution_count": null,
      "outputs": [
        {
          "output_type": "stream",
          "name": "stdout",
          "text": [
            "Looking in indexes: https://pypi.org/simple, https://us-python.pkg.dev/colab-wheels/public/simple/\n",
            "Requirement already satisfied: gdown in /usr/local/lib/python3.8/dist-packages (4.4.0)\n",
            "Collecting gdown\n",
            "  Downloading gdown-4.6.0-py3-none-any.whl (14 kB)\n",
            "Requirement already satisfied: tqdm in /usr/local/lib/python3.8/dist-packages (from gdown) (4.64.1)\n",
            "Requirement already satisfied: six in /usr/local/lib/python3.8/dist-packages (from gdown) (1.15.0)\n",
            "Requirement already satisfied: beautifulsoup4 in /usr/local/lib/python3.8/dist-packages (from gdown) (4.6.3)\n",
            "Requirement already satisfied: filelock in /usr/local/lib/python3.8/dist-packages (from gdown) (3.9.0)\n",
            "Requirement already satisfied: requests[socks] in /usr/local/lib/python3.8/dist-packages (from gdown) (2.25.1)\n",
            "Requirement already satisfied: urllib3<1.27,>=1.21.1 in /usr/local/lib/python3.8/dist-packages (from requests[socks]->gdown) (1.24.3)\n",
            "Requirement already satisfied: idna<3,>=2.5 in /usr/local/lib/python3.8/dist-packages (from requests[socks]->gdown) (2.10)\n",
            "Requirement already satisfied: chardet<5,>=3.0.2 in /usr/local/lib/python3.8/dist-packages (from requests[socks]->gdown) (4.0.0)\n",
            "Requirement already satisfied: certifi>=2017.4.17 in /usr/local/lib/python3.8/dist-packages (from requests[socks]->gdown) (2022.12.7)\n",
            "Requirement already satisfied: PySocks!=1.5.7,>=1.5.6 in /usr/local/lib/python3.8/dist-packages (from requests[socks]->gdown) (1.7.1)\n",
            "Installing collected packages: gdown\n",
            "  Attempting uninstall: gdown\n",
            "    Found existing installation: gdown 4.4.0\n",
            "    Uninstalling gdown-4.4.0:\n",
            "      Successfully uninstalled gdown-4.4.0\n",
            "Successfully installed gdown-4.6.0\n",
            "/usr/local/lib/python3.8/dist-packages/gdown/cli.py:121: FutureWarning: Option `--id` was deprecated in version 4.3.1 and will be removed in 5.0. You don't need to pass it anymore to use a file ID.\n",
            "  warnings.warn(\n",
            "Downloading...\n",
            "From: https://drive.google.com/uc?id=18h35T33aNKe4_U8lWHAU4SgPL7EoKzGK\n",
            "To: /content/model_ann.zip\n",
            "100% 1.26M/1.26M [00:00<00:00, 185MB/s]\n",
            "Archive:  /content/model_ann.zip\n",
            "   creating: model_ann/assets/\n",
            "  inflating: model_ann/keras_metadata.pb  \n",
            "  inflating: model_ann/saved_model.pb  \n",
            "  inflating: model_ann/variables/variables.index  \n",
            "  inflating: model_ann/variables/variables.data-00000-of-00001  \n"
          ]
        }
      ]
    },
    {
      "cell_type": "markdown",
      "source": [
        "### Single prediction\n",
        "Let the tester examine your trained model on single predicttion test.<br>You will use the colab.file library to allow the tester to upload a single image of an item of clothing (28x28 image).<br>\n",
        "Then build a function that takes this image, loads the weights of the trained model (If you haven't loaded it before) and prints a prediction."
      ],
      "metadata": {
        "id": "5PSVr_J-_wmX"
      }
    },
    {
      "cell_type": "code",
      "source": [
        "import tensorflow as tf\n",
        "from tensorflow import keras"
      ],
      "metadata": {
        "id": "kDwk5C13BDD4"
      },
      "execution_count": null,
      "outputs": []
    },
    {
      "cell_type": "code",
      "source": [
        "from numpy import load as load_npy\n",
        "from google.colab import files\n",
        "test_images = files.upload()"
      ],
      "metadata": {
        "id": "WGSD04i68JW-",
        "colab": {
          "base_uri": "https://localhost:8080/",
          "height": 73
        },
        "outputId": "74395ab8-53c8-4e6b-b872-620c96fb6b0b"
      },
      "execution_count": null,
      "outputs": [
        {
          "output_type": "display_data",
          "data": {
            "text/plain": [
              "<IPython.core.display.HTML object>"
            ],
            "text/html": [
              "\n",
              "     <input type=\"file\" id=\"files-fa043538-2edf-480c-8747-c8687e55018a\" name=\"files[]\" multiple disabled\n",
              "        style=\"border:none\" />\n",
              "     <output id=\"result-fa043538-2edf-480c-8747-c8687e55018a\">\n",
              "      Upload widget is only available when the cell has been executed in the\n",
              "      current browser session. Please rerun this cell to enable.\n",
              "      </output>\n",
              "      <script>// Copyright 2017 Google LLC\n",
              "//\n",
              "// Licensed under the Apache License, Version 2.0 (the \"License\");\n",
              "// you may not use this file except in compliance with the License.\n",
              "// You may obtain a copy of the License at\n",
              "//\n",
              "//      http://www.apache.org/licenses/LICENSE-2.0\n",
              "//\n",
              "// Unless required by applicable law or agreed to in writing, software\n",
              "// distributed under the License is distributed on an \"AS IS\" BASIS,\n",
              "// WITHOUT WARRANTIES OR CONDITIONS OF ANY KIND, either express or implied.\n",
              "// See the License for the specific language governing permissions and\n",
              "// limitations under the License.\n",
              "\n",
              "/**\n",
              " * @fileoverview Helpers for google.colab Python module.\n",
              " */\n",
              "(function(scope) {\n",
              "function span(text, styleAttributes = {}) {\n",
              "  const element = document.createElement('span');\n",
              "  element.textContent = text;\n",
              "  for (const key of Object.keys(styleAttributes)) {\n",
              "    element.style[key] = styleAttributes[key];\n",
              "  }\n",
              "  return element;\n",
              "}\n",
              "\n",
              "// Max number of bytes which will be uploaded at a time.\n",
              "const MAX_PAYLOAD_SIZE = 100 * 1024;\n",
              "\n",
              "function _uploadFiles(inputId, outputId) {\n",
              "  const steps = uploadFilesStep(inputId, outputId);\n",
              "  const outputElement = document.getElementById(outputId);\n",
              "  // Cache steps on the outputElement to make it available for the next call\n",
              "  // to uploadFilesContinue from Python.\n",
              "  outputElement.steps = steps;\n",
              "\n",
              "  return _uploadFilesContinue(outputId);\n",
              "}\n",
              "\n",
              "// This is roughly an async generator (not supported in the browser yet),\n",
              "// where there are multiple asynchronous steps and the Python side is going\n",
              "// to poll for completion of each step.\n",
              "// This uses a Promise to block the python side on completion of each step,\n",
              "// then passes the result of the previous step as the input to the next step.\n",
              "function _uploadFilesContinue(outputId) {\n",
              "  const outputElement = document.getElementById(outputId);\n",
              "  const steps = outputElement.steps;\n",
              "\n",
              "  const next = steps.next(outputElement.lastPromiseValue);\n",
              "  return Promise.resolve(next.value.promise).then((value) => {\n",
              "    // Cache the last promise value to make it available to the next\n",
              "    // step of the generator.\n",
              "    outputElement.lastPromiseValue = value;\n",
              "    return next.value.response;\n",
              "  });\n",
              "}\n",
              "\n",
              "/**\n",
              " * Generator function which is called between each async step of the upload\n",
              " * process.\n",
              " * @param {string} inputId Element ID of the input file picker element.\n",
              " * @param {string} outputId Element ID of the output display.\n",
              " * @return {!Iterable<!Object>} Iterable of next steps.\n",
              " */\n",
              "function* uploadFilesStep(inputId, outputId) {\n",
              "  const inputElement = document.getElementById(inputId);\n",
              "  inputElement.disabled = false;\n",
              "\n",
              "  const outputElement = document.getElementById(outputId);\n",
              "  outputElement.innerHTML = '';\n",
              "\n",
              "  const pickedPromise = new Promise((resolve) => {\n",
              "    inputElement.addEventListener('change', (e) => {\n",
              "      resolve(e.target.files);\n",
              "    });\n",
              "  });\n",
              "\n",
              "  const cancel = document.createElement('button');\n",
              "  inputElement.parentElement.appendChild(cancel);\n",
              "  cancel.textContent = 'Cancel upload';\n",
              "  const cancelPromise = new Promise((resolve) => {\n",
              "    cancel.onclick = () => {\n",
              "      resolve(null);\n",
              "    };\n",
              "  });\n",
              "\n",
              "  // Wait for the user to pick the files.\n",
              "  const files = yield {\n",
              "    promise: Promise.race([pickedPromise, cancelPromise]),\n",
              "    response: {\n",
              "      action: 'starting',\n",
              "    }\n",
              "  };\n",
              "\n",
              "  cancel.remove();\n",
              "\n",
              "  // Disable the input element since further picks are not allowed.\n",
              "  inputElement.disabled = true;\n",
              "\n",
              "  if (!files) {\n",
              "    return {\n",
              "      response: {\n",
              "        action: 'complete',\n",
              "      }\n",
              "    };\n",
              "  }\n",
              "\n",
              "  for (const file of files) {\n",
              "    const li = document.createElement('li');\n",
              "    li.append(span(file.name, {fontWeight: 'bold'}));\n",
              "    li.append(span(\n",
              "        `(${file.type || 'n/a'}) - ${file.size} bytes, ` +\n",
              "        `last modified: ${\n",
              "            file.lastModifiedDate ? file.lastModifiedDate.toLocaleDateString() :\n",
              "                                    'n/a'} - `));\n",
              "    const percent = span('0% done');\n",
              "    li.appendChild(percent);\n",
              "\n",
              "    outputElement.appendChild(li);\n",
              "\n",
              "    const fileDataPromise = new Promise((resolve) => {\n",
              "      const reader = new FileReader();\n",
              "      reader.onload = (e) => {\n",
              "        resolve(e.target.result);\n",
              "      };\n",
              "      reader.readAsArrayBuffer(file);\n",
              "    });\n",
              "    // Wait for the data to be ready.\n",
              "    let fileData = yield {\n",
              "      promise: fileDataPromise,\n",
              "      response: {\n",
              "        action: 'continue',\n",
              "      }\n",
              "    };\n",
              "\n",
              "    // Use a chunked sending to avoid message size limits. See b/62115660.\n",
              "    let position = 0;\n",
              "    do {\n",
              "      const length = Math.min(fileData.byteLength - position, MAX_PAYLOAD_SIZE);\n",
              "      const chunk = new Uint8Array(fileData, position, length);\n",
              "      position += length;\n",
              "\n",
              "      const base64 = btoa(String.fromCharCode.apply(null, chunk));\n",
              "      yield {\n",
              "        response: {\n",
              "          action: 'append',\n",
              "          file: file.name,\n",
              "          data: base64,\n",
              "        },\n",
              "      };\n",
              "\n",
              "      let percentDone = fileData.byteLength === 0 ?\n",
              "          100 :\n",
              "          Math.round((position / fileData.byteLength) * 100);\n",
              "      percent.textContent = `${percentDone}% done`;\n",
              "\n",
              "    } while (position < fileData.byteLength);\n",
              "  }\n",
              "\n",
              "  // All done.\n",
              "  yield {\n",
              "    response: {\n",
              "      action: 'complete',\n",
              "    }\n",
              "  };\n",
              "}\n",
              "\n",
              "scope.google = scope.google || {};\n",
              "scope.google.colab = scope.google.colab || {};\n",
              "scope.google.colab._files = {\n",
              "  _uploadFiles,\n",
              "  _uploadFilesContinue,\n",
              "};\n",
              "})(self);\n",
              "</script> "
            ]
          },
          "metadata": {}
        },
        {
          "output_type": "stream",
          "name": "stdout",
          "text": [
            "Saving shirt (1).jpeg to shirt (1).jpeg\n"
          ]
        }
      ]
    },
    {
      "cell_type": "code",
      "source": [
        "from PIL import Image\n",
        "import numpy as np\n",
        "class_names = ['T-shirt/top', 'Trouser', 'Pullover', 'Dress', 'Coat', 'Sandal', 'Shirt', 'Sneaker', 'Bag', 'Ankle boot']\n",
        "for imageName in test_images.keys():\n",
        "  test_image = np.array(Image.open(imageName).resize((28, 28)))\n",
        "  result = model.predict(test_image.reshape(1, 784))\n",
        "  print(f'Name of class: {class_names[np.argmax(result[0].round(), axis=-1)]}')\n",
        "  print(class_names)"
      ],
      "metadata": {
        "id": "Y7SBK56880aY",
        "colab": {
          "base_uri": "https://localhost:8080/"
        },
        "outputId": "66845725-4251-4e12-e6d7-5f8cebc0bf8b"
      },
      "execution_count": null,
      "outputs": [
        {
          "output_type": "stream",
          "name": "stdout",
          "text": [
            "1/1 [==============================] - 3s 3s/step\n",
            "Name of class: T-shirt/top\n",
            "['T-shirt/top', 'Trouser', 'Pullover', 'Dress', 'Coat', 'Sandal', 'Shirt', 'Sneaker', 'Bag', 'Ankle boot']\n"
          ]
        }
      ]
    }
  ]
}